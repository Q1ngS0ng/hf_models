{
 "cells": [
  {
   "cell_type": "code",
   "execution_count": null,
   "metadata": {},
   "outputs": [],
   "source": [
    "\n",
    "\n",
    "\n",
    "huggingface-cli download --repo-type dataset --resume-download gretelai/synthetic_text_to_sql --local-dir gretelai/synthetic_text_to_sql"
   ]
  },
  {
   "cell_type": "code",
   "execution_count": null,
   "metadata": {},
   "outputs": [],
   "source": [
    "pip install -U huggingface_hub\n",
    "\n",
    "export HF_ENDPOINT=https://hf-mirror.com"
   ]
  }
 ],
 "metadata": {
  "language_info": {
   "name": "python"
  }
 },
 "nbformat": 4,
 "nbformat_minor": 2
}
