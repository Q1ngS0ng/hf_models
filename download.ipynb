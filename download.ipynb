{
 "cells": [
  {
   "cell_type": "code",
   "execution_count": null,
   "metadata": {},
   "outputs": [],
   "source": [
    "\n",
    "huggingface-cli download --resume-download  moka-ai/m3e-base  --local-dir moka-ai/m3e-base\n",
    "\n",
    "huggingface-cli download --repo-type dataset --resume-download gretelai/synthetic_text_to_sql --local-dir gretelai/synthetic_text_to_sql"
   ]
  },
  {
   "cell_type": "code",
   "execution_count": null,
   "metadata": {},
   "outputs": [],
   "source": [
    "# 可以根据environment.yaml创建环境\n",
    "conda env create -f environment.yaml"
   ]
  },
  {
   "cell_type": "code",
   "execution_count": null,
   "metadata": {},
   "outputs": [],
   "source": [
    "# 也可以直接：\n",
    "pip install -U huggingface_hub"
   ]
  },
  {
   "cell_type": "code",
   "execution_count": null,
   "metadata": {},
   "outputs": [],
   "source": [
    "# 更换huggingface国内镜像\n",
    "export HF_ENDPOINT=https://hf-mirror.com"
   ]
  }
 ],
 "metadata": {
  "language_info": {
   "name": "python"
  }
 },
 "nbformat": 4,
 "nbformat_minor": 2
}
